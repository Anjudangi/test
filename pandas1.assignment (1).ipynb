{
 "cells": [
  {
   "cell_type": "code",
   "execution_count": 1,
   "id": "f04879e5-c5c9-4beb-85ca-8e9520aac121",
   "metadata": {},
   "outputs": [],
   "source": [
    "import pandas as pd"
   ]
  },
  {
   "cell_type": "markdown",
   "id": "4a769da7-294a-4468-bbc2-fe9a6f8a6ba3",
   "metadata": {},
   "source": [
    "Q.1 create a padnas series  that contain the following data :4,8,15,16,23and 42.then print the series"
   ]
  },
  {
   "cell_type": "code",
   "execution_count": 2,
   "id": "82444913-e879-4063-a131-ab23f00ec976",
   "metadata": {},
   "outputs": [],
   "source": [
    "a=pd.Series([4,8,15,16,23,42],name=\"numbers\")"
   ]
  },
  {
   "cell_type": "code",
   "execution_count": 3,
   "id": "4e9f1ac5-5bb3-474a-8ae4-0eab3aa4ab23",
   "metadata": {},
   "outputs": [
    {
     "data": {
      "text/plain": [
       "0     4\n",
       "1     8\n",
       "2    15\n",
       "3    16\n",
       "4    23\n",
       "5    42\n",
       "Name: numbers, dtype: int64"
      ]
     },
     "execution_count": 3,
     "metadata": {},
     "output_type": "execute_result"
    }
   ],
   "source": [
    "a"
   ]
  },
  {
   "cell_type": "markdown",
   "id": "146a76ec-2797-4c3b-8b2d-48c06c40e590",
   "metadata": {},
   "source": [
    " Q.2  create a variable of list type contaning 10 elements in it, and apply pandas series function on the \n",
    "variable and print it."
   ]
  },
  {
   "cell_type": "code",
   "execution_count": 5,
   "id": "f590a662-f11e-48da-8795-0d0ecfaea981",
   "metadata": {},
   "outputs": [
    {
     "name": "stdout",
     "output_type": "stream",
     "text": [
      "<class 'pandas.core.series.Series'>\n",
      "a    1\n",
      "b    2\n",
      "c    3\n",
      "d    4\n",
      "e    5\n",
      "Name: numbers, dtype: int64\n",
      "f     6\n",
      "g     7\n",
      "h     8\n",
      "i     9\n",
      "j    10\n",
      "Name: numbers, dtype: int64\n",
      "<class 'pandas.core.series.Series'>\n",
      "Index: 10 entries, a to j\n",
      "Series name: numbers\n",
      "Non-Null Count  Dtype\n",
      "--------------  -----\n",
      "10 non-null     int64\n",
      "dtypes: int64(1)\n",
      "memory usage: 160.0+ bytes\n",
      "None\n"
     ]
    }
   ],
   "source": [
    " a=pd.Series([1,2,3,4,5,6,7,8,9,10],name=\"numbers\",index=list(\"abcdefghij\"))\n",
    "print(type(a))\n",
    "print(a.head())\n",
    "print(a.tail())\n",
    "print(a.info())\n",
    "\n"
   ]
  },
  {
   "cell_type": "markdown",
   "id": "f30c2e1e-d855-45ab-9453-50cf078cb554",
   "metadata": {},
   "source": [
    "Q.3 create a pandas dataframe that contain the following data.\n",
    "Name\n",
    "Alice\n",
    "Bob\n",
    "Claire\n",
    "\n",
    "Age\n",
    "25\n",
    "30\n",
    "27\n",
    "\n",
    "Gender\n",
    "Female\n",
    "Male\n",
    "Female"
   ]
  },
  {
   "cell_type": "code",
   "execution_count": 6,
   "id": "5fa1fcda-2916-4e77-bb8f-632d6382b928",
   "metadata": {},
   "outputs": [
    {
     "name": "stdout",
     "output_type": "stream",
     "text": [
      "     name  age  gender\n",
      "0   alias   25  Female\n",
      "1     Bob   30    Male\n",
      "2  claire   27  Female\n"
     ]
    }
   ],
   "source": [
    "list_of_list=[[\"alias\",25,\"Female\"],[\"Bob\",30,\"Male\"],[\"claire\",27,\"Female\"]]\n",
    "first_data_frame=pd.DataFrame((list_of_list),columns=[\"name\",\"age\",\"gender\"])\n",
    "print(first_data_frame)"
   ]
  },
  {
   "cell_type": "markdown",
   "id": "eaaa3482-afac-46a7-90c7-690870d0d8ec",
   "metadata": {},
   "source": [
    "Q4. What is ‘DataFrame’ in pandas and how is it different from pandas.series? Explain with an example."
   ]
  },
  {
   "cell_type": "markdown",
   "id": "5d2dce85-cc86-4fcf-9ff3-ece8124246ed",
   "metadata": {},
   "source": [
    " ans:-4 DataFrame:- DataFrame is a 2-dimentional labeled data structure with columns of potentially\n",
    "different types. series can only contain single list with index,whereas dataframe can be made of more than one series.\n",
    "example:\n",
    "    series:- series is essentially a column\n",
    "    pandas:- pandas DataFrame is a 2-dimentional data structure. \n",
    "    \n",
    "\n"
   ]
  },
  {
   "cell_type": "code",
   "execution_count": 7,
   "id": "5e5325a3-0b04-43a9-bda5-c60194c0eded",
   "metadata": {},
   "outputs": [
    {
     "name": "stdout",
     "output_type": "stream",
     "text": [
      "0    32\n",
      "1     3\n",
      "2    21\n",
      "3    12\n",
      "4    34\n",
      "5     5\n",
      "6    32\n",
      "dtype: int64\n",
      "<class 'pandas.core.series.Series'>\n"
     ]
    }
   ],
   "source": [
    "import numpy as np\n",
    "import pandas as pd\n",
    "a=pd.Series([32,3,21,12,34,5,32])\n",
    "print(a)\n",
    "print(type(a))\n",
    "b=pd.DataFrame(np.random.randint(1,9,(4,5)))\n",
    "\n"
   ]
  },
  {
   "cell_type": "markdown",
   "id": "d9286a45-a79a-46fa-a1fe-f8844c1a8d12",
   "metadata": {},
   "source": [
    " Q5. What are some common functions you can use to manipulate data in a Pandas DataFrame? Can\n",
    "you give an example of when you might use one of these functions?"
   ]
  },
  {
   "cell_type": "markdown",
   "id": "001737ed-4a77-411f-9050-5d937124d714",
   "metadata": {},
   "source": [
    " ans:-5  Some pandas dataframe functions that can be used to accomplish most of your tasks:\n",
    "    1. pd.read_csv()\n",
    "    2. df.describe()# it is used to describe data frame.\n",
    "    3.df.info()#Prints the basic information about our dataframe\n",
    "    4.fd.rename() # it is used to rename tables columns name.\n",
    "    5.df.loc()\n",
    "    6.df.assign()# it is used to assign values\n",
    "    7.df.query()\n",
    "    8.df.head())#Prints the first  n  rows of the dataframe. By default it prints the first 5 rows\n",
    "    9.df.tail()# it is use to fetch last five rows data\n",
    "    "
   ]
  },
  {
   "cell_type": "markdown",
   "id": "80919ebc-181f-4e19-b9ac-735321f1a5b8",
   "metadata": {},
   "source": [
    "Q6. Which of the following is mutable in nature Series, DataFrame, Panel?\n",
    "\n",
    "\n"
   ]
  },
  {
   "cell_type": "markdown",
   "id": "6a54e502-9aa7-4dc0-a7c6-51bd9cd97087",
   "metadata": {},
   "source": [
    "ans:-6 Series: A pandas series is mutable which means you can change its values after its created.\n",
    "DataFrame:-A dataframe is also mutable.you can modify the data,add or remove columns,and make various changes to its structure and content.\n",
    "panel:-the panel in pandas has been deprecated since version 0.25.0, and its not recommended for use anymore.in more recent version of pandas,you would typically use multiindex dataframe or other data structure to achieve similar functionality.however ,if we are working with an older version of pandas that still supports panel,it is mutable."
   ]
  },
  {
   "cell_type": "markdown",
   "id": "c1cddb2e-61c3-4ac6-9ae9-eb495f58e28f",
   "metadata": {},
   "source": [
    "Q7. Create a DataFrame using multiple Series. Explain with an example."
   ]
  },
  {
   "cell_type": "code",
   "execution_count": 17,
   "id": "881b83c6-796a-4bb1-929e-0ce7bf6cf0d0",
   "metadata": {},
   "outputs": [
    {
     "name": "stdout",
     "output_type": "stream",
     "text": [
      "    0  1   2   3\n",
      "0   3  5   1   8\n",
      "1   9  7   4  10\n",
      "2  10  6  10   8\n"
     ]
    }
   ],
   "source": [
    "import numpy as np\n",
    "import pandas as pd\n",
    "\"\"\"we create DataFrame using multiple series by the help of numpy random.randint function.\n",
    "example are:-\"\"\"\n",
    "df=pd.DataFrame(np.random.randint(1,12,(3,4)))\n",
    "print(df)\n",
    "\n"
   ]
  },
  {
   "cell_type": "code",
   "execution_count": null,
   "id": "2e5f4aa5-bd0d-4dd1-8376-b66409e41c96",
   "metadata": {},
   "outputs": [],
   "source": []
  }
 ],
 "metadata": {
  "kernelspec": {
   "display_name": "Python 3 (ipykernel)",
   "language": "python",
   "name": "python3"
  },
  "language_info": {
   "codemirror_mode": {
    "name": "ipython",
    "version": 3
   },
   "file_extension": ".py",
   "mimetype": "text/x-python",
   "name": "python",
   "nbconvert_exporter": "python",
   "pygments_lexer": "ipython3",
   "version": "3.10.8"
  }
 },
 "nbformat": 4,
 "nbformat_minor": 5
}
